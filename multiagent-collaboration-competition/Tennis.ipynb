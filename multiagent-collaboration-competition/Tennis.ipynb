{
 "cells": [
  {
   "cell_type": "markdown",
   "metadata": {},
   "source": [
    "# Collaboration and Competition: Multi-Agent Actor-Critic Approach\n",
    "\n",
    "\n",
    "\n",
    "#### Start the Environment"
   ]
  },
  {
   "cell_type": "markdown",
   "metadata": {},
   "source": [
    "This notebook serves to try out Multi-Agent Actor-Critic for mixed cooperative-competitive environments., using Udacity's Tennis environment, which strongly resembles the Unity Tennis environment.\n",
    "\n",
    "Necessary packages have to be imported first.\n",
    "\n",
    "Before proceeding, please make sure that you have installed [Unity ML-Agents](https://github.com/Unity-Technologies/ml-agents/blob/master/docs/Installation.md) and that the Reacher Environment is placed properly in your project folder. In case of doubts, refer to [README](TODO)."
   ]
  },
  {
   "cell_type": "code",
   "execution_count": 3,
   "metadata": {},
   "outputs": [],
   "source": [
    "from unityagents import UnityEnvironment\n",
    "import numpy as np\n",
    "import os\n",
    "\n",
    "import torch\n",
    "from collections import deque\n",
    "\n",
    "import matplotlib.pyplot as plt\n",
    "%matplotlib inline\n",
    "\n",
    "import time\n",
    "plt.ion()\n",
    "\n",
    "from multiagent import MultiAgentWrapper"
   ]
  },
  {
   "cell_type": "code",
   "execution_count": 4,
   "metadata": {},
   "outputs": [],
   "source": [
    "os.makedirs(\"./weights\", exist_ok = True) "
   ]
  },
  {
   "cell_type": "code",
   "execution_count": 5,
   "metadata": {},
   "outputs": [
    {
     "name": "stderr",
     "output_type": "stream",
     "text": [
      "INFO:unityagents:\n",
      "'Academy' started successfully!\n",
      "Unity Academy name: Academy\n",
      "        Number of Brains: 1\n",
      "        Number of External Brains : 1\n",
      "        Lesson number : 0\n",
      "        Reset Parameters :\n",
      "\t\t\n",
      "Unity brain name: TennisBrain\n",
      "        Number of Visual Observations (per agent): 0\n",
      "        Vector Observation space type: continuous\n",
      "        Vector Observation space size (per agent): 8\n",
      "        Number of stacked Vector Observation: 3\n",
      "        Vector Action space type: continuous\n",
      "        Vector Action space size (per agent): 2\n",
      "        Vector Action descriptions: , \n"
     ]
    }
   ],
   "source": [
    "env = UnityEnvironment(file_name=\"/data/Tennis_Linux_NoVis/Tennis\")"
   ]
  },
  {
   "cell_type": "markdown",
   "metadata": {},
   "source": [
    "Environments contain **_brains_** which are responsible for deciding the actions of their associated agents. Here we check for the first brain available, and set it as the default brain we will be controlling from Python."
   ]
  },
  {
   "cell_type": "code",
   "execution_count": 6,
   "metadata": {},
   "outputs": [],
   "source": [
    "# get the default brain\n",
    "brain_name = env.brain_names[0]\n",
    "brain = env.brains[brain_name]"
   ]
  },
  {
   "cell_type": "markdown",
   "metadata": {},
   "source": [
    "#### Examine the State and Action Spaces"
   ]
  },
  {
   "cell_type": "code",
   "execution_count": 7,
   "metadata": {},
   "outputs": [
    {
     "name": "stdout",
     "output_type": "stream",
     "text": [
      "Number of agents: 2\n",
      "Size of each action: 2\n",
      "There are 2 agents. Each observes a state with length: 24\n",
      "The state for the first agent looks like: [ 0.          0.          0.          0.          0.          0.          0.\n",
      "  0.          0.          0.          0.          0.          0.          0.\n",
      "  0.          0.         -6.65278625 -1.5        -0.          0.\n",
      "  6.83172083  6.         -0.          0.        ]\n"
     ]
    }
   ],
   "source": [
    "# reset the environment\n",
    "env_info = env.reset(train_mode=True)[brain_name]\n",
    "\n",
    "# number of agents \n",
    "num_agents = len(env_info.agents)\n",
    "print('Number of agents:', num_agents)\n",
    "\n",
    "# size of each action\n",
    "action_size = brain.vector_action_space_size\n",
    "print('Size of each action:', action_size)\n",
    "\n",
    "# examine the state space \n",
    "states = env_info.vector_observations\n",
    "state_size = states.shape[1]\n",
    "print('There are {} agents. Each observes a state with length: {}'.format(states.shape[0], state_size))\n",
    "print('The state for the first agent looks like:', states[0])"
   ]
  },
  {
   "cell_type": "markdown",
   "metadata": {},
   "source": [
    "#### Train the agents"
   ]
  },
  {
   "cell_type": "code",
   "execution_count": 18,
   "metadata": {},
   "outputs": [],
   "source": [
    "def maddpg(n_episodes=100000, max_t=10000, window_size=100, score_threshold=0.5, print_every=50, agent=None):\n",
    "    \"\"\" TODO\n",
    "    \n",
    "    Params:\n",
    "    TODO\n",
    "    \"\"\"\n",
    "    assert agent, \"Agent has not been initialized properly.\"\n",
    "    scores = []\n",
    "    scores_deque = deque(maxlen=window_size)\n",
    "    \n",
    "    for i_episode in range(1, n_episodes+1): \n",
    "        \n",
    "        rewards = []\n",
    "        env_info = env.reset(train_mode=True)[brain_name]\n",
    "        state = env_info.vector_observations \n",
    "\n",
    "        for step in range(max_t):\n",
    "            # select action for each agent based on its own state\n",
    "            action = agent.act(state)\n",
    "            env_info = env.step(action)[brain_name]     \n",
    "            next_state = env_info.vector_observations   \n",
    "            rewards_vec = env_info.rewards                   \n",
    "            done = env_info.local_done\n",
    "            \n",
    "            # update and train agent\n",
    "            agent.step(state, action, rewards_vec, next_state, done)\n",
    "            state = next_state\n",
    "            rewards.append(rewards_vec)\n",
    "\n",
    "            if np.any(done):\n",
    "                break\n",
    "                \n",
    "        # episode score is the maximum of individually collected rewards of agents\n",
    "        episode_reward = np.max(np.sum(np.array(rewards),axis=0))\n",
    "        \n",
    "        # use current episode score to calculate running average (of window_size) and to accumulate for all scores history\n",
    "        scores_deque.append(episode_reward)\n",
    "        scores.append(episode_reward)\n",
    "\n",
    "        # calculate current running average score\n",
    "        current_avg_score = np.mean(scores_deque)\n",
    "        \n",
    "        if i_episode % print_every  == 0:\n",
    "            print(f\"Episode:{i_episode}, Current Average Score:{current_avg_score:.2f}\")\n",
    "        \n",
    "        # break if environment is solved, according to the requirements\n",
    "        if current_avg_score > score_threshold:\n",
    "            print(f\"Environment solved, the agents scored on average above the required threshold of {score_threshold:.2f}\")\n",
    "            print(f\"Episode:{i_episode}, Current Average Score:{current_avg_score:.2f}\")\n",
    "            \n",
    "            for i, agent in enumerate(agent.agents):\n",
    "                torch.save(agent.actor_local.state_dict(),  f\"checkpoint_actor_agent_{i}.pth\")\n",
    "                torch.save(agent.critic_local.state_dict(), f\"checkpoint_critic_agent_{i}.pth\")\n",
    "            break\n",
    "            \n",
    "    return scores"
   ]
  },
  {
   "cell_type": "code",
   "execution_count": 19,
   "metadata": {},
   "outputs": [],
   "source": [
    "seed = 42 \n",
    "agent = MultiAgentWrapper(seed=2, noise_start=0.5, gamma=1, state_size=state_size)"
   ]
  },
  {
   "cell_type": "code",
   "execution_count": 20,
   "metadata": {
    "scrolled": true
   },
   "outputs": [
    {
     "name": "stdout",
     "output_type": "stream",
     "text": [
      "Episode:50, Current Average Score:0.00\n",
      "Episode:100, Current Average Score:0.00\n",
      "Episode:150, Current Average Score:0.00\n",
      "Episode:200, Current Average Score:0.00\n",
      "Episode:250, Current Average Score:0.00\n",
      "Episode:300, Current Average Score:0.01\n",
      "Episode:350, Current Average Score:0.03\n",
      "Episode:400, Current Average Score:0.03\n",
      "Episode:450, Current Average Score:0.01\n",
      "Episode:500, Current Average Score:0.01\n",
      "Episode:550, Current Average Score:0.02\n",
      "Episode:600, Current Average Score:0.02\n",
      "Episode:650, Current Average Score:0.02\n",
      "Episode:700, Current Average Score:0.03\n",
      "Episode:750, Current Average Score:0.04\n",
      "Episode:800, Current Average Score:0.05\n",
      "Episode:850, Current Average Score:0.07\n",
      "Episode:900, Current Average Score:0.07\n",
      "Episode:950, Current Average Score:0.08\n",
      "Episode:1000, Current Average Score:0.09\n",
      "Episode:1050, Current Average Score:0.09\n",
      "Episode:1100, Current Average Score:0.09\n",
      "Episode:1150, Current Average Score:0.09\n",
      "Episode:1200, Current Average Score:0.10\n",
      "Episode:1250, Current Average Score:0.10\n",
      "Episode:1300, Current Average Score:0.10\n",
      "Episode:1350, Current Average Score:0.11\n",
      "Episode:1400, Current Average Score:0.11\n",
      "Episode:1450, Current Average Score:0.12\n",
      "Episode:1500, Current Average Score:0.12\n",
      "Episode:1550, Current Average Score:0.13\n",
      "Episode:1600, Current Average Score:0.14\n",
      "Episode:1650, Current Average Score:0.13\n",
      "Episode:1700, Current Average Score:0.14\n",
      "Episode:1750, Current Average Score:0.18\n",
      "Episode:1800, Current Average Score:0.20\n",
      "Episode:1850, Current Average Score:0.16\n",
      "Episode:1900, Current Average Score:0.16\n",
      "Episode:1950, Current Average Score:0.19\n",
      "Episode:2000, Current Average Score:0.28\n",
      "Episode:2050, Current Average Score:0.31\n",
      "Episode:2100, Current Average Score:0.26\n",
      "Episode:2150, Current Average Score:0.25\n",
      "Episode:2200, Current Average Score:0.29\n",
      "Episode:2250, Current Average Score:0.30\n",
      "Episode:2300, Current Average Score:0.25\n",
      "Episode:2350, Current Average Score:0.22\n",
      "Episode:2400, Current Average Score:0.21\n",
      "Episode:2450, Current Average Score:0.20\n",
      "Episode:2500, Current Average Score:0.18\n",
      "Episode:2550, Current Average Score:0.20\n",
      "Episode:2600, Current Average Score:0.23\n",
      "Episode:2650, Current Average Score:0.35\n",
      "Episode:2700, Current Average Score:0.43\n",
      "Episode:2750, Current Average Score:0.33\n",
      "Episode:2800, Current Average Score:0.27\n",
      "Episode:2850, Current Average Score:0.42\n",
      "Episode:2900, Current Average Score:0.48\n",
      "Episode:2950, Current Average Score:0.38\n",
      "Episode:3000, Current Average Score:0.28\n",
      "Episode:3050, Current Average Score:0.20\n",
      "Episode:3100, Current Average Score:0.25\n",
      "Episode:3150, Current Average Score:0.35\n",
      "Episode:3200, Current Average Score:0.27\n",
      "Episode:3250, Current Average Score:0.13\n",
      "Episode:3300, Current Average Score:0.16\n",
      "Episode:3350, Current Average Score:0.18\n",
      "Episode:3400, Current Average Score:0.16\n",
      "Episode:3450, Current Average Score:0.15\n",
      "Episode:3500, Current Average Score:0.20\n",
      "Episode:3550, Current Average Score:0.24\n",
      "Episode:3600, Current Average Score:0.38\n",
      "Episode:3650, Current Average Score:0.39\n",
      "Episode:3700, Current Average Score:0.29\n",
      "Episode:3750, Current Average Score:0.29\n",
      "Episode:3800, Current Average Score:0.29\n",
      "Episode:3850, Current Average Score:0.26\n",
      "Episode:3900, Current Average Score:0.21\n",
      "Episode:3950, Current Average Score:0.17\n",
      "Episode:4000, Current Average Score:0.15\n",
      "Episode:4050, Current Average Score:0.29\n",
      "Episode:4100, Current Average Score:0.38\n",
      "Episode:4150, Current Average Score:0.40\n",
      "Episode:4200, Current Average Score:0.27\n",
      "Episode:4250, Current Average Score:0.25\n",
      "Episode:4300, Current Average Score:0.40\n",
      "Episode:4350, Current Average Score:0.44\n",
      "Episode:4400, Current Average Score:0.46\n",
      "Episode:4450, Current Average Score:0.43\n",
      "Episode:4500, Current Average Score:0.38\n",
      "Episode:4550, Current Average Score:0.30\n",
      "Episode:4600, Current Average Score:0.35\n",
      "Episode:4650, Current Average Score:0.34\n",
      "Episode:4700, Current Average Score:0.25\n",
      "Episode:4750, Current Average Score:0.22\n",
      "Episode:4800, Current Average Score:0.35\n",
      "Episode:4850, Current Average Score:0.43\n",
      "Episode:4900, Current Average Score:0.34\n",
      "Episode:4950, Current Average Score:0.28\n",
      "Episode:5000, Current Average Score:0.27\n",
      "Episode:5050, Current Average Score:0.31\n",
      "Episode:5100, Current Average Score:0.47\n",
      "Environment solved, the agents scored on average above the required threshold of f'0.50\n",
      "Episode:5108, Current Average Score:0.50\n"
     ]
    }
   ],
   "source": [
    "scores = maddpg(n_episodes=10000, max_t=10000, agent=agent)"
   ]
  },
  {
   "cell_type": "code",
   "execution_count": 26,
   "metadata": {},
   "outputs": [
    {
     "data": {
      "image/png": "[encoded data removed]",
      "text/plain": [
       "<matplotlib.figure.Figure at 0x7f55327e9d68>"
      ]
     },
     "metadata": {
      "needs_background": "light"
     },
     "output_type": "display_data"
    }
   ],
   "source": [
    "fig, ax = plt.subplots(1, 1, figsize=[15, 5])\n",
    "\n",
    "ax.plot(np.arange(1, len(scores)+1), scores,'b', label='Scores per episode')\n",
    "\n",
    "ax.set_xlabel(\"Episode\")\n",
    "ax.set_ylabel(\"Score\")\n",
    "ax.grid(which=\"major\")\n",
    "\n",
    "ax.axhline(0.5, c=\"green\", linewidth=3, alpha=0.5)\n",
    "ax.legend([\"Reward per Episode\", \"Target Average Score\"])\n",
    "\n",
    "fig.tight_layout()\n",
    "fig.savefig(\"plot.jpg\")"
   ]
  },
  {
   "cell_type": "code",
   "execution_count": 28,
   "metadata": {},
   "outputs": [],
   "source": [
    "env.close()"
   ]
  }
 ],
 "metadata": {
  "kernelspec": {
   "display_name": "Python 3",
   "language": "python",
   "name": "python3"
  },
  "language_info": {
   "codemirror_mode": {
    "name": "ipython",
    "version": 3
   },
   "file_extension": ".py",
   "mimetype": "text/x-python",
   "name": "python",
   "nbconvert_exporter": "python",
   "pygments_lexer": "ipython3",
   "version": "3.6.10"
  }
 },
 "nbformat": 4,
 "nbformat_minor": 2
}
